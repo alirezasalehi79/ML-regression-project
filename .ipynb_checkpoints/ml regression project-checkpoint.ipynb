{
 "cells": [
  {
   "cell_type": "markdown",
   "id": "196454d2",
   "metadata": {},
   "source": [
    "# import libraries"
   ]
  },
  {
   "cell_type": "code",
   "execution_count": 1,
   "id": "681fba04",
   "metadata": {},
   "outputs": [],
   "source": [
    "import numpy as np\n",
    "import pandas as pd\n",
    "import math\n",
    "import pylab as pl\n",
    "import matplotlib.pyplot as plt\n",
    "import seaborn as sb\n",
    "from scipy.stats import pearsonr\n",
    "from scipy.stats import spearmanr\n",
    "from scipy.stats import chi2_contingency\n",
    "from sklearn import linear_model\n",
    "from sklearn.preprocessing import PolynomialFeatures\n",
    "from sklearn.metrics import r2_score\n",
    "from scipy.optimize import curve_fit\n",
    "from sklearn.preprocessing import OneHotEncoder\n",
    "from sklearn.preprocessing import LabelEncoder\n",
    "\n",
    "\n"
   ]
  },
  {
   "cell_type": "markdown",
   "id": "ca96298d",
   "metadata": {},
   "source": [
    "# main project"
   ]
  },
  {
   "cell_type": "code",
   "execution_count": 4,
   "id": "1a5cd14d",
   "metadata": {},
   "outputs": [
    {
     "name": "stdout",
     "output_type": "stream",
     "text": [
      "[[ 9.19636979e-05 -8.68555121e+07 -2.73119562e+08 -7.13874521e+08\n",
      "  -1.90792718e+08 -1.28011088e+07 -2.34110121e+07  4.65514913e+05\n",
      "   1.01915252e+07  2.61968953e+07  9.84075514e+06  3.25072995e+07\n",
      "  -1.34931861e+05 -1.19498413e+08 -2.24006654e+08 -2.42658454e+08\n",
      "  -1.09112828e+09  7.89190035e+06 -7.13874521e+08  4.19140359e+08\n",
      "   5.28911231e+08  1.18185016e+06 -1.90792718e+08  4.51855599e+08\n",
      "  -3.26652920e+06 -1.28011088e+07 -6.99876206e+06  1.53183192e+05]]\n",
      "[4.92340342e+09]\n",
      "score is 0.6027016455527493\n"
     ]
    },
    {
     "name": "stderr",
     "output_type": "stream",
     "text": [
      "C:\\Users\\USER\\AppData\\Local\\Temp\\ipykernel_14032\\2633665610.py:39: SettingWithCopyWarning: \n",
      "A value is trying to be set on a copy of a slice from a DataFrame.\n",
      "Try using .loc[row_indexer,col_indexer] = value instead\n",
      "\n",
      "See the caveats in the documentation: https://pandas.pydata.org/pandas-docs/stable/user_guide/indexing.html#returning-a-view-versus-a-copy\n",
      "  train['Address'] = le.transform(train['Address'])\n",
      "C:\\Users\\USER\\AppData\\Local\\Temp\\ipykernel_14032\\2633665610.py:41: SettingWithCopyWarning: \n",
      "A value is trying to be set on a copy of a slice from a DataFrame.\n",
      "Try using .loc[row_indexer,col_indexer] = value instead\n",
      "\n",
      "See the caveats in the documentation: https://pandas.pydata.org/pandas-docs/stable/user_guide/indexing.html#returning-a-view-versus-a-copy\n",
      "  test['Address'] = le.transform(test['Address'])\n"
     ]
    }
   ],
   "source": [
    "house_price = pd.read_csv('housePrice.csv')\n",
    "\n",
    "house_price['Area']=pd.to_numeric(house_price['Area'], errors='coerce')\n",
    "\n",
    "def outliers(df,ft):\n",
    "    Q1 = df[ft].quantile(0.25)\n",
    "    Q3 = df[ft].quantile(0.75)\n",
    "    IQR = Q3 - Q1\n",
    "    \n",
    "    lower_boundary = Q1 - 1.5 * IQR\n",
    "    upper_boundary = Q3 + 1.5 * IQR\n",
    "    \n",
    "    lst = df.index[(df[ft] < lower_boundary) | (df[ft] > upper_boundary)]\n",
    "    return lst\n",
    "\n",
    "index_list = []\n",
    "for i in house_price['Area']:\n",
    "    index_list.extend(outliers(house_price,'Area'))\n",
    "    \n",
    "def remove(df,ls):\n",
    "    ls = sorted(set(ls))\n",
    "    df = df.drop(ls)\n",
    "    return df\n",
    "\n",
    "house_price_cleaned = remove(house_price,index_list)\n",
    "\n",
    "house_price_cleaned.to_csv('housePrice_cleaned',index=False)\n",
    "\n",
    "house_price_cleaned.dropna(axis = 0,inplace=True)\n",
    "\n",
    "house_price_cleaned.reset_index(drop=True,inplace=True)\n",
    "\n",
    "msk = np.random.rand(len(house_price_cleaned)) < 0.8\n",
    "train = house_price_cleaned[msk]\n",
    "test = house_price_cleaned[~msk]\n",
    "\n",
    "le = LabelEncoder()\n",
    "le.fit(train['Address'])\n",
    "train['Address'] = le.transform(train['Address'])\n",
    "le.fit(test['Address'])\n",
    "test['Address'] = le.transform(test['Address'])\n",
    "\n",
    "regr = linear_model.LinearRegression()\n",
    "\n",
    "train_x = np.asanyarray(train[['Area','Room','Parking','Warehouse','Elevator','Address']])\n",
    "train_y = np.asanyarray(train[['Price']])\n",
    "test_x = np.asanyarray(test[['Area','Room','Parking','Warehouse','Elevator','Address']])\n",
    "test_y = np.asanyarray(test[['Price']])\n",
    "\n",
    "x = PolynomialFeatures(degree = 2)\n",
    "train_x_poly = x.fit_transform(train_x)\n",
    "\n",
    "regr_fit = regr.fit(train_x_poly,train_y)\n",
    "\n",
    "print(regr_fit.coef_)\n",
    "print(regr_fit.intercept_)\n",
    "\n",
    "test_x_poly = x.fit_transform(test_x)\n",
    "test_y_ = regr_fit.predict(test_x_poly)\n",
    "print('score is',r2_score(test_y,test_y_))\n",
    "\n",
    "\n"
   ]
  },
  {
   "cell_type": "code",
   "execution_count": null,
   "id": "ec3c308c",
   "metadata": {},
   "outputs": [],
   "source": []
  },
  {
   "cell_type": "code",
   "execution_count": null,
   "id": "58164679",
   "metadata": {},
   "outputs": [],
   "source": []
  }
 ],
 "metadata": {
  "kernelspec": {
   "display_name": "Python 3 (ipykernel)",
   "language": "python",
   "name": "python3"
  },
  "language_info": {
   "codemirror_mode": {
    "name": "ipython",
    "version": 3
   },
   "file_extension": ".py",
   "mimetype": "text/x-python",
   "name": "python",
   "nbconvert_exporter": "python",
   "pygments_lexer": "ipython3",
   "version": "3.9.13"
  }
 },
 "nbformat": 4,
 "nbformat_minor": 5
}
